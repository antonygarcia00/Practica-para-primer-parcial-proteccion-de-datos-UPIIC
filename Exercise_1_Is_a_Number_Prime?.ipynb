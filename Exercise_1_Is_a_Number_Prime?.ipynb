{
  "nbformat": 4,
  "nbformat_minor": 0,
  "metadata": {
    "colab": {
      "provenance": [],
      "authorship_tag": "ABX9TyNmHLmsux77dD6HfT0SNc2S",
      "include_colab_link": true
    },
    "kernelspec": {
      "name": "python3",
      "display_name": "Python 3"
    },
    "language_info": {
      "name": "python"
    }
  },
  "cells": [
    {
      "cell_type": "markdown",
      "metadata": {
        "id": "view-in-github",
        "colab_type": "text"
      },
      "source": [
        "<a href=\"https://colab.research.google.com/github/antonygarcia00/Practica-para-primer-parcial-proteccion-de-datos-UPIIC/blob/main/Exercise_1_Is_a_Number_Prime%3F.ipynb\" target=\"_parent\"><img src=\"https://colab.research.google.com/assets/colab-badge.svg\" alt=\"Open In Colab\"/></a>"
      ]
    },
    {
      "cell_type": "markdown",
      "source": [
        "A prime number is an integer greater than 1 that is only divisible by one and itself. Writeafunction that determines whether or not its parameter is prime, returning True if it is, and Falseotherwise. Write a main program that reads an integer from the user and displays a messageindicating whether or not it is prime. Ensure that the main program will not run if the filecontaining your solution is imported into another program."
      ],
      "metadata": {
        "id": "l3jKEGZML1uP"
      }
    },
    {
      "cell_type": "markdown",
      "source": [
        "Un número primo es un número entero mayor que 1 que sólo es divisible por uno y por sí mismo. Escriba una función que determine si su parámetro es primo o no, devolviendo Verdadero si lo es y Falso en caso contrario. Escriba un programa principal que lea un número entero del usuario y muestre un mensaje indicando si es primo o no. Asegúrese de que el programa principal no se ejecute si el archivo que contiene su solución se importa a otro programa."
      ],
      "metadata": {
        "id": "i5CokFnSL8WN"
      }
    },
    {
      "cell_type": "code",
      "execution_count": null,
      "metadata": {
        "colab": {
          "base_uri": "https://localhost:8080/"
        },
        "id": "sZeaS9uVLxhM",
        "outputId": "faa4690f-5fb1-4c28-91db-4d9b75f98819"
      },
      "outputs": [
        {
          "output_type": "stream",
          "name": "stdout",
          "text": [
            "ES UN NUMERO PRIMO O NO?\n",
            "teclee un numero a evaluar: 50\n",
            "La aseveración: el valor es un numero primo es:  False\n"
          ]
        }
      ],
      "source": [
        "print(\"ES UN NUMERO PRIMO O NO?\")\n",
        "num = int(input(\"teclee un numero a evaluar: \"))\n",
        "\n",
        "def primo(num):\n",
        "  if num > 1:\n",
        "    cont = 0\n",
        "    for i in range(2,num):\n",
        "      resto = num % i\n",
        "\n",
        "      if resto == 0:\n",
        "        cont += 1\n",
        "    if cont == 0:\n",
        "      respuesta = True\n",
        "    else:\n",
        "      respuesta = False\n",
        "  else:\n",
        "    respuesta = False\n",
        "\n",
        "  print(\"La aseveración: el valor es un numero primo es: \", respuesta)\n",
        "\n",
        "\n",
        "primo(num)"
      ]
    }
  ]
}