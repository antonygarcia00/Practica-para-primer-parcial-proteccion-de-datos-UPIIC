{
  "nbformat": 4,
  "nbformat_minor": 0,
  "metadata": {
    "colab": {
      "provenance": [],
      "authorship_tag": "ABX9TyMRyjjct+P4O+o+Rgzk0Kbx",
      "include_colab_link": true
    },
    "kernelspec": {
      "name": "python3",
      "display_name": "Python 3"
    },
    "language_info": {
      "name": "python"
    }
  },
  "cells": [
    {
      "cell_type": "markdown",
      "metadata": {
        "id": "view-in-github",
        "colab_type": "text"
      },
      "source": [
        "<a href=\"https://colab.research.google.com/github/antonygarcia00/Practica-para-primer-parcial-proteccion-de-datos-UPIIC/blob/main/Exercise_2_Next_Prime.ipynb\" target=\"_parent\"><img src=\"https://colab.research.google.com/assets/colab-badge.svg\" alt=\"Open In Colab\"/></a>"
      ]
    },
    {
      "cell_type": "markdown",
      "source": [
        "In this exercise you will create a function named nextPrime that finds and returns the first primenumber larger than some integer, n. The value of n will be passed to the function as its onlyparameter. Include a main program that reads an integer from the user and displays the first\n",
        "prime number larger than the entered value. Import and use your solution to Exercise 1 whilecompleting this exercise."
      ],
      "metadata": {
        "id": "Y8Ue90C4TZFF"
      }
    },
    {
      "cell_type": "markdown",
      "source": [
        "En este ejercicio, creará una función llamada nextPrime que encuentra y devuelve el primer número primo mayor que algún número entero, n. El valor de n se pasará a la función como su único parámetro. Incluir un programa principal que lea un número entero del usuario y muestre el primer\n",
        "número primo mayor que el valor ingresado. Importe y utilice su solución para el Ejercicio 1 mientras completa este ejercicio."
      ],
      "metadata": {
        "id": "Iu_1aOrXTZVW"
      }
    },
    {
      "cell_type": "code",
      "source": [
        "def es_primo(num):\n",
        "    if num <= 1:\n",
        "        return False\n",
        "    if num <= 3:\n",
        "        return True\n",
        "    if num % 2 == 0 or num % 3 == 0:\n",
        "        return False\n",
        "    i = 5\n",
        "    while i * i <= num:\n",
        "        if num % i == 0 or num % (i + 2) == 0:\n",
        "            return False\n",
        "        i += 6\n",
        "    return True\n",
        "\n",
        "def siguiente_primo_mayor(num):\n",
        "    siguiente = num + 1\n",
        "    while True:\n",
        "        if es_primo(siguiente):\n",
        "            return siguiente\n",
        "        siguiente += 1\n",
        "\n",
        "try:\n",
        "    numero = int(input(\"Ingrese un número: \"))\n",
        "    if numero < 0:\n",
        "        print(\"Por favor, ingrese un número positivo.\")\n",
        "    else:\n",
        "        siguiente_primo = siguiente_primo_mayor(numero)\n",
        "        print(f\"El siguiente número primo mayor que {numero} es {siguiente_primo}.\")\n",
        "except ValueError:\n",
        "    print(\"Por favor, ingrese un número válido.\")\n"
      ],
      "metadata": {
        "id": "IWtEfy5YfZ46"
      },
      "execution_count": null,
      "outputs": []
    }
  ]
}