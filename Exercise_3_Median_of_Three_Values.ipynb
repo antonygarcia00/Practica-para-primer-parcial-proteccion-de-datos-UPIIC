{
  "nbformat": 4,
  "nbformat_minor": 0,
  "metadata": {
    "colab": {
      "provenance": [],
      "authorship_tag": "ABX9TyNukYqIT90xpySMiSsASax6",
      "include_colab_link": true
    },
    "kernelspec": {
      "name": "python3",
      "display_name": "Python 3"
    },
    "language_info": {
      "name": "python"
    }
  },
  "cells": [
    {
      "cell_type": "markdown",
      "metadata": {
        "id": "view-in-github",
        "colab_type": "text"
      },
      "source": [
        "<a href=\"https://colab.research.google.com/github/antonygarcia00/Practica-para-primer-parcial-proteccion-de-datos-UPIIC/blob/main/Exercise_3_Median_of_Three_Values.ipynb\" target=\"_parent\"><img src=\"https://colab.research.google.com/assets/colab-badge.svg\" alt=\"Open In Colab\"/></a>"
      ]
    },
    {
      "cell_type": "markdown",
      "source": [
        "Write a function that takes three numbers as parameters, and returns the median value of thoseparameters as its result. Include a main program that reads three values fromthe user anddisplays their median."
      ],
      "metadata": {
        "id": "o7F15Sz3g2If"
      }
    },
    {
      "cell_type": "markdown",
      "source": [
        "Escriba una función que tome tres números como parámetros y devuelva el valor mediano de esos parámetros como resultado. Incluya un programa principal que lea tres valores del usuario y muestre su mediana."
      ],
      "metadata": {
        "id": "euQ0fumPg2Nu"
      }
    },
    {
      "cell_type": "code",
      "execution_count": null,
      "metadata": {
        "colab": {
          "base_uri": "https://localhost:8080/"
        },
        "id": "rgSb1A98go2e",
        "outputId": "2161f307-d207-48ef-fefe-4bf0d7ac0f6b"
      },
      "outputs": [
        {
          "output_type": "stream",
          "name": "stdout",
          "text": [
            "Ingrese el primer número: 40\n",
            "Ingrese el segundo número: 20\n",
            "Ingrese el tercer número: 100\n",
            "[20.0, 40.0, 100.0]\n",
            "40.0\n",
            "La mediana de el conjunto de numeros es: 40.0.\n"
          ]
        }
      ],
      "source": [
        "def Mediana(a,b,c):\n",
        "  if a != b and a != c and b != c:\n",
        "    numeros = [a,b,c]\n",
        "    datos = sorted(numeros)\n",
        "    print(datos)\n",
        "    median = datos[1]\n",
        "    print(median)\n",
        "    print(f\"La mediana de el conjunto de numeros es: {median}.\")\n",
        "#    return numeros\n",
        "\n",
        "  else:\n",
        "      print(\"Ingrese números diferentes\")\n",
        "\n",
        "a = float(input(\"Ingrese el primer número: \"))\n",
        "b = float(input(\"Ingrese el segundo número: \"))\n",
        "c = float(input(\"Ingrese el tercer número: \"))\n",
        "median = 0\n",
        "\n",
        "\n",
        "Mediana(a,b,c)\n",
        "\n",
        "# print(f\"Los numeros ingresados son: {numeros}.\")\n",
        "\n"
      ]
    }
  ]
}