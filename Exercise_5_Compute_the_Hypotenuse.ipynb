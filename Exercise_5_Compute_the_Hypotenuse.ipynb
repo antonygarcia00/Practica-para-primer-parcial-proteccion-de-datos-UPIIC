{
  "nbformat": 4,
  "nbformat_minor": 0,
  "metadata": {
    "colab": {
      "provenance": [],
      "authorship_tag": "ABX9TyN/AoVuANO1jup5Q3YMIEis",
      "include_colab_link": true
    },
    "kernelspec": {
      "name": "python3",
      "display_name": "Python 3"
    },
    "language_info": {
      "name": "python"
    }
  },
  "cells": [
    {
      "cell_type": "markdown",
      "metadata": {
        "id": "view-in-github",
        "colab_type": "text"
      },
      "source": [
        "<a href=\"https://colab.research.google.com/github/antonygarcia00/Practica-para-primer-parcial-proteccion-de-datos-UPIIC/blob/main/Exercise_5_Compute_the_Hypotenuse.ipynb\" target=\"_parent\"><img src=\"https://colab.research.google.com/assets/colab-badge.svg\" alt=\"Open In Colab\"/></a>"
      ]
    },
    {
      "cell_type": "markdown",
      "source": [
        "Write a function that takes the lengths of the two shorter sides of a right triangle as its\n",
        "parameters. Return the hypotenuse of the triangle, computed using Pythagorean theorem, as thefunction’s result. Include a main program that reads the lengths of the shorter sides of a right\n",
        "triangle from the user, uses your function to compute the length of the hypotenuse, and displays\n",
        "the result."
      ],
      "metadata": {
        "id": "SLy_4EPlohPy"
      }
    },
    {
      "cell_type": "markdown",
      "source": [
        "Escribe una función que tome las longitudes de los dos lados más cortos de un triángulo rectángulo como su\n",
        "parámetros. Devuelve la hipotenusa del triángulo, calculada usando el teorema de Pitágoras, como resultado de la función. Incluir un programa principal que lea las longitudes de los lados más cortos de un triángulo del usuario, usa su función para calcular la longitud de la hipotenusa y muestra\n",
        "el resultado."
      ],
      "metadata": {
        "id": "KNqDyu_HohU8"
      }
    },
    {
      "cell_type": "code",
      "execution_count": null,
      "metadata": {
        "colab": {
          "base_uri": "https://localhost:8080/"
        },
        "id": "afvh7xaroeVI",
        "outputId": "a88722cf-3f4a-4361-cd0e-646480f85a56"
      },
      "outputs": [
        {
          "output_type": "stream",
          "name": "stdout",
          "text": [
            "Ingrese el primer lado corto del triángulo: 4\n",
            "Ingrese el segundo lado corto del triángulo: 3\n",
            "La hipotenusa de los lados cortos del triángulo es: 5.0.\n"
          ]
        }
      ],
      "source": [
        "import math\n",
        "def obten_hipotenusa(a,b):\n",
        "  d = (a**2) + (b**2)\n",
        "  c = math.sqrt(d)\n",
        "  print(f\"La hipotenusa de los lados cortos del triángulo es: {c}.\")\n",
        "\n",
        "\n",
        "\n",
        "a = int(input(\"Ingrese el primer lado corto del triángulo: \"))\n",
        "b = int(input(\"Ingrese el segundo lado corto del triángulo: \"))\n",
        "\n",
        "obten_hipotenusa(a,b)"
      ]
    }
  ]
}