{
  "nbformat": 4,
  "nbformat_minor": 0,
  "metadata": {
    "colab": {
      "provenance": [],
      "authorship_tag": "ABX9TyO2oKmqJbGbmWn7uvRtikLp",
      "include_colab_link": true
    },
    "kernelspec": {
      "name": "python3",
      "display_name": "Python 3"
    },
    "language_info": {
      "name": "python"
    }
  },
  "cells": [
    {
      "cell_type": "markdown",
      "metadata": {
        "id": "view-in-github",
        "colab_type": "text"
      },
      "source": [
        "<a href=\"https://colab.research.google.com/github/antonygarcia00/Practica-para-primer-parcial-proteccion-de-datos-UPIIC/blob/main/Exercise_4_Random_Password.ipynb\" target=\"_parent\"><img src=\"https://colab.research.google.com/assets/colab-badge.svg\" alt=\"Open In Colab\"/></a>"
      ]
    },
    {
      "cell_type": "markdown",
      "source": [
        "Write a function that generates a random password. The password should have a randomlengthof between 7 and 10 characters. Each character should be randomly selected frompositions 33to126 in the ASCII table. Your function will not take any parameters. It will return the randomlygenerated password as its only result. Display the randomly generated password in your file’s\n",
        "main program. Your main program should only run when your solution has not been importedinto another file."
      ],
      "metadata": {
        "id": "cBmwL8n7mjdz"
      }
    },
    {
      "cell_type": "markdown",
      "source": [
        "Escribe una función que genere una contraseña aleatoria. La contraseña debe tener una longitud aleatoria de entre 7 y 10 caracteres. Cada carácter debe seleccionarse aleatoriamente desde las posiciones 33 a 126 en la tabla ASCII. Su función no tomará ningún parámetro. Devolverá la contraseña generada aleatoriamente como único resultado. Muestre la contraseña generada aleatoriamente en su archivo\n",
        "programa principal. Su programa principal sólo debería ejecutarse cuando su solución no haya sido importada a otro archivo."
      ],
      "metadata": {
        "id": "OZ195mfLmjmT"
      }
    },
    {
      "cell_type": "code",
      "execution_count": null,
      "metadata": {
        "colab": {
          "base_uri": "https://localhost:8080/"
        },
        "id": "FLM0CryImPfr",
        "outputId": "3a454adb-eb8b-4a85-f871-529a1537620c"
      },
      "outputs": [
        {
          "output_type": "stream",
          "name": "stdout",
          "text": [
            "Sc^B{m2vw'\n"
          ]
        }
      ],
      "source": [
        "import secrets       #genera combinaciones random\n",
        "import string       #trabajar con caracteres\n",
        "\n",
        "def crear_password(longitud):       #concatena strings en una solo\n",
        "    caracteres = string.ascii_letters + string.digits + string.punctuation    #\n",
        "    psswrd = \"\"\n",
        "    for _ in range(longitud):     #de acuerdo a la longitud establecida, genera una contraseña\n",
        "        psswrd += secrets.choice(caracteres)\n",
        "    return psswrd\n",
        "\n",
        "new_psswrd = crear_password(10)\n",
        "print(new_psswrd)"
      ]
    }
  ]
}